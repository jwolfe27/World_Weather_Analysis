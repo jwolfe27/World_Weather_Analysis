{
 "cells": [
  {
   "cell_type": "code",
   "execution_count": 1,
   "id": "14e964d5",
   "metadata": {},
   "outputs": [],
   "source": [
    "# Import the random module\n",
    "import random"
   ]
  },
  {
   "cell_type": "code",
   "execution_count": 3,
   "id": "539f54a6",
   "metadata": {},
   "outputs": [
    {
     "data": {
      "text/plain": [
       "-59"
      ]
     },
     "execution_count": 3,
     "metadata": {},
     "output_type": "execute_result"
    }
   ],
   "source": [
    "random.randint(-90,90)"
   ]
  },
  {
   "cell_type": "code",
   "execution_count": 4,
   "id": "8be721a6",
   "metadata": {},
   "outputs": [
    {
     "data": {
      "text/plain": [
       "0.933670481458849"
      ]
     },
     "execution_count": 4,
     "metadata": {},
     "output_type": "execute_result"
    }
   ],
   "source": [
    "random.random()"
   ]
  },
  {
   "cell_type": "code",
   "execution_count": 5,
   "id": "a88d216b",
   "metadata": {},
   "outputs": [
    {
     "data": {
      "text/plain": [
       "7.541337210908633"
      ]
     },
     "execution_count": 5,
     "metadata": {},
     "output_type": "execute_result"
    }
   ],
   "source": [
    "random_number = random.randint(-90,89) + random.random()\n",
    "random_number"
   ]
  },
  {
   "cell_type": "code",
   "execution_count": 8,
   "id": "7516e97f",
   "metadata": {},
   "outputs": [
    {
     "data": {
      "text/plain": [
       "[-29.877303899843646,\n",
       " 64.81269317736941,\n",
       " 32.66083143587144,\n",
       " 65.64682898661508,\n",
       " 76.1604926076957,\n",
       " -81.20416448151086,\n",
       " 47.7145415548471,\n",
       " -11.32313391525309,\n",
       " 21.9474897971293,\n",
       " -15.370070896508887]"
      ]
     },
     "execution_count": 8,
     "metadata": {},
     "output_type": "execute_result"
    }
   ],
   "source": [
    "x = 1\n",
    "latitudes = []\n",
    "while x < 11:\n",
    "    random_lat = random.randint(-90, 89) + random.random()\n",
    "    latitudes.append(random_lat)\n",
    "    x += 1\n",
    "\n",
    "latitudes"
   ]
  },
  {
   "cell_type": "code",
   "execution_count": 9,
   "id": "77d5f798",
   "metadata": {},
   "outputs": [
    {
     "data": {
      "text/plain": [
       "-66"
      ]
     },
     "execution_count": 9,
     "metadata": {},
     "output_type": "execute_result"
    }
   ],
   "source": [
    "random.randrange(-90, 90, step=1)"
   ]
  },
  {
   "cell_type": "code",
   "execution_count": 10,
   "id": "202e59c5",
   "metadata": {},
   "outputs": [
    {
     "data": {
      "text/plain": [
       "-66"
      ]
     },
     "execution_count": 10,
     "metadata": {},
     "output_type": "execute_result"
    }
   ],
   "source": [
    "random.randrange(-90, 90, step=3)"
   ]
  },
  {
   "cell_type": "code",
   "execution_count": 11,
   "id": "948bcfb7",
   "metadata": {},
   "outputs": [
    {
     "data": {
      "text/plain": [
       "23.968390062914253"
      ]
     },
     "execution_count": 11,
     "metadata": {},
     "output_type": "execute_result"
    }
   ],
   "source": [
    "random.uniform(-90, 90)"
   ]
  },
  {
   "cell_type": "code",
   "execution_count": 12,
   "id": "e7040891",
   "metadata": {},
   "outputs": [],
   "source": [
    "# Import the NumPy Module\n",
    "import numpy as np"
   ]
  },
  {
   "cell_type": "code",
   "execution_count": 13,
   "id": "a09fc582",
   "metadata": {},
   "outputs": [
    {
     "data": {
      "text/plain": [
       "17.11464568008705"
      ]
     },
     "execution_count": 13,
     "metadata": {},
     "output_type": "execute_result"
    }
   ],
   "source": [
    "np.random.uniform(-90.000, 90.000)"
   ]
  },
  {
   "cell_type": "code",
   "execution_count": 14,
   "id": "07bf86e9",
   "metadata": {},
   "outputs": [
    {
     "data": {
      "text/plain": [
       "array([ 55.46395684, -88.079862  ,   7.0972096 ,  58.7577861 ,\n",
       "       -80.97028475, -18.39125448,  38.16203438, -48.43810647,\n",
       "        -8.03732888, -15.86884643,  -1.59432968,  26.17322594,\n",
       "        87.23587981, -34.26213306,  88.80472659, -56.28854188,\n",
       "       -62.53752785,   7.74015429,  59.95574652,  68.52548261,\n",
       "        72.07088283, -64.91017052, -29.41275258, -86.82603042,\n",
       "       -69.98420098,  41.42902357,  13.43596241,  16.89067653,\n",
       "        -1.07087514,  61.70523374,  -4.14148497, -49.39780447,\n",
       "       -55.76535064,  81.26730085, -18.13880312, -74.8153208 ,\n",
       "       -57.68074177,  81.88083037, -79.014929  , -37.86090062,\n",
       "        83.46033719,  59.79308814,  43.57932494,  67.63799977,\n",
       "       -13.54187586,  71.45998079,  80.72284988, -51.40173832,\n",
       "       -14.51106605,  14.95400068])"
      ]
     },
     "execution_count": 14,
     "metadata": {},
     "output_type": "execute_result"
    }
   ],
   "source": [
    "np.random.uniform(-90, 90, size=50)"
   ]
  },
  {
   "cell_type": "code",
   "execution_count": 21,
   "id": "51d2d408",
   "metadata": {},
   "outputs": [],
   "source": [
    "# Import timeit - tests how long it takes for a piece of code to run\n",
    "import timeit"
   ]
  },
  {
   "cell_type": "code",
   "execution_count": 23,
   "id": "d2f9b0a3",
   "metadata": {},
   "outputs": [
    {
     "name": "stdout",
     "output_type": "stream",
     "text": [
      "11 µs ± 254 ns per loop (mean ± std. dev. of 7 runs, 100000 loops each)\n"
     ]
    }
   ],
   "source": [
    "%timeit np.random.uniform(-90.000, 90.000, size = 1500)"
   ]
  },
  {
   "cell_type": "code",
   "execution_count": 24,
   "id": "876fd654",
   "metadata": {},
   "outputs": [
    {
     "name": "stdout",
     "output_type": "stream",
     "text": [
      "1.37 ms ± 141 µs per loop (mean ± std. dev. of 7 runs, 1000 loops each)\n"
     ]
    }
   ],
   "source": [
    "def latitudes(size):\n",
    "    latitudes = []\n",
    "    x = 0\n",
    "    while x < (size):\n",
    "        random_lat = random.randint(-90, 90) + random.random()\n",
    "        latitudes.append(random_lat)\n",
    "        x += 1\n",
    "    return latitudes\n",
    "# Call the function with 1500\n",
    "%timeit latitudes(1500)"
   ]
  },
  {
   "cell_type": "code",
   "execution_count": null,
   "id": "745984f8",
   "metadata": {},
   "outputs": [],
   "source": []
  }
 ],
 "metadata": {
  "kernelspec": {
   "display_name": "Python 3",
   "language": "python",
   "name": "python3"
  },
  "language_info": {
   "codemirror_mode": {
    "name": "ipython",
    "version": 3
   },
   "file_extension": ".py",
   "mimetype": "text/x-python",
   "name": "python",
   "nbconvert_exporter": "python",
   "pygments_lexer": "ipython3",
   "version": "3.7.10"
  }
 },
 "nbformat": 4,
 "nbformat_minor": 5
}
